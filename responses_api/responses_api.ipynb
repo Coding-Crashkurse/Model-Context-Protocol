{
 "cells": [
  {
   "cell_type": "code",
   "execution_count": null,
   "id": "dd34aec0",
   "metadata": {},
   "outputs": [],
   "source": [
    "from dotenv import load_dotenv\n",
    "\n",
    "load_dotenv()"
   ]
  },
  {
   "cell_type": "code",
   "execution_count": null,
   "id": "de17d0cf",
   "metadata": {},
   "outputs": [],
   "source": [
    "from openai import OpenAI\n",
    "\n",
    "client = OpenAI()\n",
    "\n",
    "response = client.responses.create(\n",
    "    model=\"gpt-4o-mini\",\n",
    "    tools=[\n",
    "        {\n",
    "            \"type\":         \"mcp\",\n",
    "            \"server_label\": \"clothing_price_server\",\n",
    "            \"server_url\":   \"http://localhost:3000/mcp\",\n",
    "            # \"server_url\":   \"https://fa73-2a02-2455-335-3900-7453-e355-52ce-6751.ngrok-free.app/mcp\",\n",
    "        }\n",
    "    ],\n",
    "    input=\"list all available clothing items and their prices.\"\n",
    ")"
   ]
  },
  {
   "cell_type": "code",
   "execution_count": null,
   "id": "cac3ce89",
   "metadata": {},
   "outputs": [],
   "source": [
    "approval = next(o for o in response.output if o.type == \"mcp_approval_request\")\n",
    "approval_id = approval.id"
   ]
  },
  {
   "cell_type": "code",
   "execution_count": null,
   "id": "87b95474",
   "metadata": {},
   "outputs": [],
   "source": [
    "approval_id"
   ]
  },
  {
   "cell_type": "code",
   "execution_count": null,
   "id": "197e0a87",
   "metadata": {},
   "outputs": [],
   "source": [
    "response2 = client.responses.create(\n",
    "    model=\"gpt-4o-mini\",\n",
    "    input=[\n",
    "        {\n",
    "            \"type\": \"mcp_approval_response\",\n",
    "            \"approval_request_id\": approval_id,  \n",
    "            \"approve\": True,                     \n",
    "        }\n",
    "    ],\n",
    "    tools=[\n",
    "        {\n",
    "            \"type\":         \"mcp\",\n",
    "            \"server_label\": \"clothing_price_server\",\n",
    "            \"server_url\":   \"https://fa73-2a02-2455-335-3900-7453-e355-52ce-6751.ngrok-free.app/mcp\",\n",
    "        }\n",
    "    ],\n",
    "    previous_response_id = response.id\n",
    ")\n"
   ]
  },
  {
   "cell_type": "code",
   "execution_count": null,
   "id": "692af312",
   "metadata": {},
   "outputs": [],
   "source": [
    "response2.output_text"
   ]
  },
  {
   "cell_type": "code",
   "execution_count": null,
   "id": "c4ed29d9",
   "metadata": {},
   "outputs": [],
   "source": [
    "from openai import OpenAI\n",
    "\n",
    "client = OpenAI()\n",
    "\n",
    "response = client.responses.create(\n",
    "    model=\"gpt-4o-mini\",\n",
    "    tools=[\n",
    "        {\n",
    "            \"type\":             \"mcp\",\n",
    "            \"server_label\":     \"clothing_price_server\",\n",
    "            \"server_url\":       \"https://fa73-2a02-2455-335-3900-7453-e355-52ce-6751.ngrok-free.app/mcp\",\n",
    "            \"require_approval\": \"never\"\n",
    "        }\n",
    "    ],\n",
    "    input=\"list all available clothing items and their prices.\"\n",
    ")"
   ]
  },
  {
   "cell_type": "code",
   "execution_count": null,
   "id": "612688c7",
   "metadata": {},
   "outputs": [],
   "source": [
    "response2.output_text"
   ]
  },
  {
   "cell_type": "code",
   "execution_count": null,
   "id": "5af3c63e",
   "metadata": {},
   "outputs": [],
   "source": [
    "response = client.responses.create(\n",
    "  model=\"o3\",\n",
    "  input=\"Write me an extremely long story.\",\n",
    "  reasoning={ \"effort\": \"high\" },\n",
    "  background=True\n",
    ")"
   ]
  },
  {
   "cell_type": "code",
   "execution_count": null,
   "id": "bc7dc1f7",
   "metadata": {},
   "outputs": [],
   "source": [
    "response = client.responses.create(\n",
    "    model=\"o4-mini\",\n",
    "    tools=[\n",
    "        {\n",
    "            \"type\": \"code_interpreter\",\n",
    "            \"container\": {\"type\": \"auto\"}\n",
    "        }\n",
    "    ],\n",
    "    instructions=(\n",
    "        \"You are a personal math tutor. \"\n",
    "        \"When asked a math question, run code to answer the question.\"\n",
    "    ),\n",
    "    input=\"I need to solve the equation `3x + 11 = 14`. Can you help me?\",\n",
    "    reasoning={\"summary\": \"auto\"}\n",
    ")"
   ]
  }
 ],
 "metadata": {
  "kernelspec": {
   "display_name": ".venv",
   "language": "python",
   "name": "python3"
  },
  "language_info": {
   "codemirror_mode": {
    "name": "ipython",
    "version": 3
   },
   "file_extension": ".py",
   "mimetype": "text/x-python",
   "name": "python",
   "nbconvert_exporter": "python",
   "pygments_lexer": "ipython3",
   "version": "3.13.3"
  }
 },
 "nbformat": 4,
 "nbformat_minor": 5
}
